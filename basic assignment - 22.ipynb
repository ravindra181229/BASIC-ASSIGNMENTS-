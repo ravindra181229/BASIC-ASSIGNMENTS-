{
 "cells": [
  {
   "cell_type": "code",
   "execution_count": 13,
   "id": "bb74d7aa",
   "metadata": {},
   "outputs": [
    {
     "name": "stdout",
     "output_type": "stream",
     "text": [
      "iNeuron\n"
     ]
    },
    {
     "data": {
      "text/plain": [
       "'first we defined a global variable X and to X we passed a string called \"iNeuron\",and than we defined a function and inside that we are printing the X locally and finally we are calling the function func'"
      ]
     },
     "execution_count": 13,
     "metadata": {},
     "output_type": "execute_result"
    }
   ],
   "source": [
    "#Q1\n",
    "X = 'iNeuron'\n",
    "def func():\n",
    "    print(X)\n",
    "func()\n",
    "'''first we defined a global variable X and to X we passed a string called \"iNeuron\",and than we defined a function and inside that we are printing the X locally and finally we are calling the function func'''"
   ]
  },
  {
   "cell_type": "code",
   "execution_count": 12,
   "id": "1c126d03",
   "metadata": {},
   "outputs": [
    {
     "name": "stdout",
     "output_type": "stream",
     "text": [
      "iNeuron\n"
     ]
    },
    {
     "data": {
      "text/plain": [
       "'here we are getting iNeuron as output because though we assigned X = \"NI\" inside a function called func, it prints the value of X which we have provided in the starting , because first we assigned globally and inside function we assigned locally and we are printing X and it returns the global value'"
      ]
     },
     "execution_count": 12,
     "metadata": {},
     "output_type": "execute_result"
    }
   ],
   "source": [
    "#Q2\n",
    "X = 'iNeuron'\n",
    "def func():\n",
    "    X = 'NI'\n",
    "func()\n",
    "print(X)\n",
    "'''here we are getting iNeuron as output because though we assigned X = \"NI\" inside a function called func, it prints the value of X which we have provided in the starting , because first we assigned globally and inside function we assigned locally and we are printing X and it returns the global value'''"
   ]
  },
  {
   "cell_type": "code",
   "execution_count": 17,
   "id": "fc92f7b3",
   "metadata": {},
   "outputs": [
    {
     "name": "stdout",
     "output_type": "stream",
     "text": [
      "NI\n",
      "iNeuron\n"
     ]
    },
    {
     "data": {
      "text/plain": [
       "'here we are getting NI and iNeuron as output because we assigned X = \"NI\" inside a function called func and printing X .And it is printing the value of X which we have provided in the starting , because first we assigned globally \\'iNeuron\\' to X and we are printing X globally and it returns the global value'"
      ]
     },
     "execution_count": 17,
     "metadata": {},
     "output_type": "execute_result"
    }
   ],
   "source": [
    "#Q3\n",
    "X = 'iNeuron'\n",
    "def func():\n",
    "    X = 'NI'\n",
    "    print(X)\n",
    "func()\n",
    "print(X)\n",
    "'''here we are getting NI and iNeuron as output because we assigned X = \"NI\" inside a function called func and printing X .And it is printing the value of X which we have provided in the starting , because first we assigned globally 'iNeuron' to X and we are printing X globally and it returns the global value'''"
   ]
  },
  {
   "cell_type": "code",
   "execution_count": 22,
   "id": "522f6a4f",
   "metadata": {},
   "outputs": [
    {
     "name": "stdout",
     "output_type": "stream",
     "text": [
      "NI\n"
     ]
    },
    {
     "data": {
      "text/plain": [
       "'this program has returned \"NI\" as output because though we have assigned X = \"iNeuron\" globally in the first line , we are calling again X = \"NI\" globally inside a function called fun, so it returns \"NI\" as ouput which we have assigned globally inside function'"
      ]
     },
     "execution_count": 22,
     "metadata": {},
     "output_type": "execute_result"
    }
   ],
   "source": [
    "#Q4\n",
    "X = 'iNeuron'\n",
    "def func():\n",
    "    global X\n",
    "    X = 'NI'\n",
    "func()\n",
    "print(X)\n",
    "'''this program has returned \"NI\" as output because though we have assigned X = \"iNeuron\" globally in the first line , we are calling again X = \"NI\" globally inside a function called fun, so it returns \"NI\" as ouput which we have assigned globally inside function'''"
   ]
  },
  {
   "cell_type": "code",
   "execution_count": 49,
   "id": "9001fa78",
   "metadata": {},
   "outputs": [
    {
     "name": "stdout",
     "output_type": "stream",
     "text": [
      "in this code we are getting 2 iNeuron because , the nested function is returning \"iNeuron\" because we passed iNeuron globally in the first line to X and we are calling that X in nested() function, the second iNeuron is we are directly calling the value of X which we have provided globally\n",
      "iNeuron\n"
     ]
    },
    {
     "data": {
      "text/plain": [
       "'iNeuron'"
      ]
     },
     "execution_count": 49,
     "metadata": {},
     "output_type": "execute_result"
    }
   ],
   "source": [
    "#Q5\n",
    "print('in this code we are getting 2 iNeuron because , the nested function is returning \"iNeuron\" because we passed iNeuron globally in the first line to X and we are calling that X in nested() function, the second iNeuron is we are directly calling the value of X which we have provided globally')\n",
    "\n",
    "X = 'iNeuron'\n",
    "def func():\n",
    "    X =\"NI\"\n",
    "def nested():\n",
    "    print(X)\n",
    "nested()\n",
    "func()\n",
    "X"
   ]
  },
  {
   "cell_type": "code",
   "execution_count": 78,
   "id": "1a07d750",
   "metadata": {},
   "outputs": [
    {
     "name": "stdout",
     "output_type": "stream",
     "text": [
      "Spam\n"
     ]
    },
    {
     "data": {
      "text/plain": [
       "\"This code prints 'Spam', because the nonlocal statement means that the assignment to X inside the nested function changes X in the enclosing functional local scope. Without this statement\""
      ]
     },
     "execution_count": 78,
     "metadata": {},
     "output_type": "execute_result"
    }
   ],
   "source": [
    "#Q6\n",
    "def func():\n",
    "    X = 'NI'\n",
    "    def nested():\n",
    "        nonlocal X\n",
    "    X = 'Spam'\n",
    "    nested()\n",
    "    print(X)\n",
    "func()\n",
    "\n",
    "'''This code prints 'Spam', because the nonlocal statement means that the assignment to X inside the nested function changes X in the enclosing functional local scope. Without this statement'''"
   ]
  },
  {
   "cell_type": "code",
   "execution_count": null,
   "id": "f7331c89",
   "metadata": {},
   "outputs": [],
   "source": []
  }
 ],
 "metadata": {
  "kernelspec": {
   "display_name": "Python 3",
   "language": "python",
   "name": "python3"
  },
  "language_info": {
   "codemirror_mode": {
    "name": "ipython",
    "version": 3
   },
   "file_extension": ".py",
   "mimetype": "text/x-python",
   "name": "python",
   "nbconvert_exporter": "python",
   "pygments_lexer": "ipython3",
   "version": "3.8.8"
  }
 },
 "nbformat": 4,
 "nbformat_minor": 5
}
