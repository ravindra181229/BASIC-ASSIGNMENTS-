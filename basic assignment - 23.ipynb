{
 "cells": [
  {
   "cell_type": "code",
   "execution_count": 37,
   "id": "88f38399",
   "metadata": {},
   "outputs": [
    {
     "name": "stdout",
     "output_type": "stream",
     "text": [
      "1 2 8\n",
      "the result of this code is 1 2 8 we are getting this result because we assigned value 1 to a , and vlaue 2 to b , and didnt assign any value to c , so its returning the 8\n"
     ]
    }
   ],
   "source": [
    "#Q1\n",
    "def func(a,b=6,c=8):\n",
    "    print(a,b,c)\n",
    "func(1,2)\n",
    "print(\"the result of this code is 1 2 8 we are getting this result because we assigned value 1 to a , and vlaue 2 to b , and didnt assign any value to c , so its returning the 8\")"
   ]
  },
  {
   "cell_type": "code",
   "execution_count": 12,
   "id": "47d94071",
   "metadata": {},
   "outputs": [
    {
     "name": "stdout",
     "output_type": "stream",
     "text": [
      "1 2 3\n",
      "the result is 1 2 3 where we assigned 1 to a , 2 to b and 3 to c, though we assigned c=5 in def function , it takes values from func we have provied , it overides the values\n"
     ]
    }
   ],
   "source": [
    "#Q2\n",
    "def func(a,b,c=5):\n",
    "    print(a,b,c)\n",
    "func(1,c=3,b=2)\n",
    "print(\"the result is 1 2 3 where we assigned 1 to a , 2 to b and 3 to c, though we assigned c=5 in def function , it takes values from func we have provied , it overides the values\")"
   ]
  },
  {
   "cell_type": "code",
   "execution_count": 34,
   "id": "6ddf358f",
   "metadata": {},
   "outputs": [
    {
     "name": "stdout",
     "output_type": "stream",
     "text": [
      "1 (2, 3)\n",
      "here it takes as many values as we provide because *pargs takes as many values, so there is no need to assign a value to variable. whatever we call in func in last line, it reutrns the results\n",
      "if we provide any multiple values after the first value, it makes a seperate room for that values because pargs seperates the values from the 1st value\n"
     ]
    }
   ],
   "source": [
    "#Q3\n",
    "def func(a,*pargs):\n",
    "    print(a,pargs)\n",
    "func(1,2,3)\n",
    "print(\"here it takes as many values as we provide because *pargs takes as many values, so there is no need to assign a value to variable. whatever we call in func in last line, it reutrns the results\")\n",
    "print('if we provide any multiple values after the first value, it makes a seperate room for that values because pargs seperates the values from the 1st value')"
   ]
  },
  {
   "cell_type": "code",
   "execution_count": 33,
   "id": "c737eab1",
   "metadata": {},
   "outputs": [
    {
     "name": "stdout",
     "output_type": "stream",
     "text": [
      "1 {'c': 3, 'b': 2}\n",
      "here it returns the output as dictionary, whatever we provide we should assign as key and value pair to kargs otherwise it raises an exception, to 'a' we can directly assign value\n"
     ]
    }
   ],
   "source": [
    "#Q4\n",
    "def func(a, **kargs):\n",
    "    print(a,kargs)\n",
    "func(a=1,c=3,b=2)\n",
    "print(\"here it returns the output as dictionary, whatever we provide we should assign as key and value pair to kargs otherwise it raises an exception, to 'a' we can directly assign value\")"
   ]
  },
  {
   "cell_type": "code",
   "execution_count": 52,
   "id": "85cb19aa",
   "metadata": {},
   "outputs": [
    {
     "name": "stdout",
     "output_type": "stream",
     "text": [
      "1 5 6 5\n",
      "it returns 1 5 6 5 because inside 'func(1,*(5,6))' the vlaues is assigned to other variables except d, and the last value 5 is returned due to we assigned it to 'd' inside the def fun \n"
     ]
    }
   ],
   "source": [
    "#Q5\n",
    "def func(a,b,c=8,d=5):\n",
    "    print(a,b,c,d)\n",
    "func(1,*(5,6))\n",
    "print(\"it returns 1 5 6 5 because inside 'func(1,*(5,6))' the vlaues is assigned to other variables except d, and the last value 5 is returned due to we assigned it to 'd' inside the def fun \")"
   ]
  },
  {
   "cell_type": "code",
   "execution_count": 63,
   "id": "9e28ff80",
   "metadata": {},
   "outputs": [
    {
     "ename": "NameError",
     "evalue": "name 'l' is not defined",
     "output_type": "error",
     "traceback": [
      "\u001b[1;31m---------------------------------------------------------------------------\u001b[0m",
      "\u001b[1;31mNameError\u001b[0m                                 Traceback (most recent call last)",
      "\u001b[1;32m<ipython-input-63-e7ee1b97011a>\u001b[0m in \u001b[0;36m<module>\u001b[1;34m\u001b[0m\n\u001b[0;32m      4\u001b[0m     \u001b[0ml\u001b[0m\u001b[1;33m=\u001b[0m\u001b[1;36m1\u001b[0m\u001b[1;33m;\u001b[0m\u001b[0mm\u001b[0m\u001b[1;33m=\u001b[0m\u001b[1;33m[\u001b[0m\u001b[1;36m1\u001b[0m\u001b[1;33m]\u001b[0m\u001b[1;33m;\u001b[0m\u001b[0mn\u001b[0m\u001b[1;33m=\u001b[0m\u001b[1;33m{\u001b[0m\u001b[1;34m'a'\u001b[0m\u001b[1;33m:\u001b[0m\u001b[1;36m0\u001b[0m\u001b[1;33m}\u001b[0m\u001b[1;33m\u001b[0m\u001b[1;33m\u001b[0m\u001b[0m\n\u001b[0;32m      5\u001b[0m     \u001b[0mfunc\u001b[0m\u001b[1;33m(\u001b[0m\u001b[0ml\u001b[0m\u001b[1;33m,\u001b[0m\u001b[0mm\u001b[0m\u001b[1;33m,\u001b[0m\u001b[0mn\u001b[0m\u001b[1;33m)\u001b[0m\u001b[1;33m\u001b[0m\u001b[1;33m\u001b[0m\u001b[0m\n\u001b[1;32m----> 6\u001b[1;33m \u001b[0ml\u001b[0m\u001b[1;33m,\u001b[0m\u001b[0mm\u001b[0m\u001b[1;33m,\u001b[0m\u001b[0mn\u001b[0m\u001b[1;33m\u001b[0m\u001b[1;33m\u001b[0m\u001b[0m\n\u001b[0m",
      "\u001b[1;31mNameError\u001b[0m: name 'l' is not defined"
     ]
    }
   ],
   "source": [
    "#Q6\n",
    "def func(a,b,c):\n",
    "    a=2;b[0] ='x';c['a'] = 'y'\n",
    "    l=1;m=[1];n={'a':0}\n",
    "    func(l,m,n)\n",
    "l,m,n\n"
   ]
  },
  {
   "cell_type": "code",
   "execution_count": null,
   "id": "e33269a8",
   "metadata": {},
   "outputs": [],
   "source": []
  }
 ],
 "metadata": {
  "kernelspec": {
   "display_name": "Python 3",
   "language": "python",
   "name": "python3"
  },
  "language_info": {
   "codemirror_mode": {
    "name": "ipython",
    "version": 3
   },
   "file_extension": ".py",
   "mimetype": "text/x-python",
   "name": "python",
   "nbconvert_exporter": "python",
   "pygments_lexer": "ipython3",
   "version": "3.8.8"
  }
 },
 "nbformat": 4,
 "nbformat_minor": 5
}
