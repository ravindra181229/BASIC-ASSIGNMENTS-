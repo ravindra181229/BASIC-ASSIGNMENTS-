{
 "cells": [
  {
   "cell_type": "code",
   "execution_count": 3,
   "id": "0ffc9d41",
   "metadata": {},
   "outputs": [],
   "source": [
    "#Q1\n",
    "from datetime import date\n",
    "file = open('today.txt','w')\n",
    "today = date.today()\n",
    "file.write(str(today))\n",
    "file.close()"
   ]
  },
  {
   "cell_type": "code",
   "execution_count": 4,
   "id": "aa88efbb",
   "metadata": {},
   "outputs": [
    {
     "name": "stdout",
     "output_type": "stream",
     "text": [
      "2021-11-24\n"
     ]
    }
   ],
   "source": [
    "#Q2\n",
    "with open('today.txt') as file:\n",
    "    today_string = file.read()\n",
    "    print(today_string)"
   ]
  },
  {
   "cell_type": "code",
   "execution_count": 7,
   "id": "705b1cb1",
   "metadata": {},
   "outputs": [
    {
     "data": {
      "text/plain": [
       "time.struct_time(tm_year=2021, tm_mon=11, tm_mday=24, tm_hour=0, tm_min=0, tm_sec=0, tm_wday=2, tm_yday=328, tm_isdst=-1)"
      ]
     },
     "execution_count": 7,
     "metadata": {},
     "output_type": "execute_result"
    }
   ],
   "source": [
    "#Q3\n",
    "import time\n",
    "prase = \"%Y-%m-%d\"\n",
    "time.strptime(today_string,prase)"
   ]
  },
  {
   "cell_type": "code",
   "execution_count": 8,
   "id": "95784e8c",
   "metadata": {},
   "outputs": [
    {
     "data": {
      "text/plain": [
       "['.astropy',\n",
       " '.conda',\n",
       " '.condarc',\n",
       " '.continuum',\n",
       " '.cufflinks',\n",
       " '.idea',\n",
       " '.ipynb_checkpoints',\n",
       " '.ipython',\n",
       " '.jupyter',\n",
       " '.matplotlib',\n",
       " '.python_history',\n",
       " '.virtualenvs',\n",
       " '.vscode',\n",
       " '1st ML (linear regression).ipynb',\n",
       " '2nd ML (linear regression).ipynb',\n",
       " '3D Objects',\n",
       " 'actual mysql .ipynb',\n",
       " 'admi',\n",
       " 'admission_lr.pickle',\n",
       " 'admission_lr_model.pickle',\n",
       " 'advance assignment - 10.ipynb',\n",
       " 'advance assignment - 11.ipynb',\n",
       " 'advance assignment - 12.ipynb',\n",
       " 'advance assignment - 15.ipynb',\n",
       " 'advance assignment - 4.ipynb',\n",
       " 'advance assignment - 5.ipynb',\n",
       " 'advance assignment - 6.ipynb',\n",
       " 'advance assignment - 7.ipynb',\n",
       " 'advance assignment - 8.ipynb',\n",
       " 'advance assignment-2.ipynb',\n",
       " 'advance assignment-3.ipynb',\n",
       " 'advertise.html',\n",
       " 'all pandas.ipynb',\n",
       " 'anaconda',\n",
       " 'anaconda3',\n",
       " 'AppData',\n",
       " 'Application Data',\n",
       " 'assignment 10.ipynb',\n",
       " 'assignment 11.ipynb',\n",
       " 'assignment 12.ipynb',\n",
       " 'assignment 13.ipynb',\n",
       " 'assignment 14.ipynb',\n",
       " 'assignment 15.ipynb',\n",
       " 'assignment 16.ipynb',\n",
       " 'b assignment 4.ipynb',\n",
       " 'basic ass 5.ipynb',\n",
       " 'basic assignment - 16.ipynb',\n",
       " 'basic assignment - 17.ipynb',\n",
       " 'basic assignment - 21.ipynb',\n",
       " 'basic assignment 4.ipynb',\n",
       " 'basic assignment(python) - 19.ipynb',\n",
       " 'basic programming 7.ipynb',\n",
       " 'basic programming assignment 12.ipynb',\n",
       " 'basket.csv',\n",
       " 'basket1.csv',\n",
       " 'buss.csv',\n",
       " 'carbon_new.csv',\n",
       " 'cassandra.ipynb',\n",
       " 'cassandra1.ipynb',\n",
       " 'class on 18th july.ipynb',\n",
       " 'class on 24th july.ipynb',\n",
       " 'class on 25th july.ipynb',\n",
       " 'class on 26th sep decision tree.ipynb',\n",
       " 'class on 30 .ipynb',\n",
       " 'clustring.ipynb',\n",
       " 'color_red.png',\n",
       " 'Contacts',\n",
       " 'Cookies',\n",
       " 'cropped.png',\n",
       " 'decision tree.ipynb',\n",
       " 'Desktop',\n",
       " 'Documents',\n",
       " 'drawing.png',\n",
       " 'DT .ipynb',\n",
       " 'dt_en_meta.dot',\n",
       " 'dt_model1.png',\n",
       " 'dt_model3.png',\n",
       " 'EDA.ipynb',\n",
       " 'encapsulation and other.ipynb',\n",
       " 'exdata.csv',\n",
       " 'Favorites',\n",
       " 'fgfh',\n",
       " 'file rwwb',\n",
       " 'final ML 1 & 2 practice.ipynb',\n",
       " 'final ml 3 (LOGiSTICS REGRESSION).ipynb',\n",
       " 'final pandas practice.ipynb',\n",
       " 'final pandas.ipynb',\n",
       " 'first',\n",
       " 'fri',\n",
       " 'IntelGraphicsProfiles',\n",
       " 'knn.pkl',\n",
       " 'lgging',\n",
       " 'linear1',\n",
       " 'linear_reg.sav',\n",
       " 'liner',\n",
       " 'Links',\n",
       " 'Local Settings',\n",
       " 'log regression.ipynb',\n",
       " 'logging',\n",
       " 'logistics regression practice.ipynb',\n",
       " 'ML 3 .ipynb',\n",
       " 'mmsql.ipynb',\n",
       " 'mongodb.ipynb',\n",
       " 'mql.ipynb',\n",
       " 'Music',\n",
       " 'My Documents',\n",
       " 'mydata.csv',\n",
       " 'MYSQL AND CASSANDRA.ipynb',\n",
       " 'mysql,mongodb,cassandra.ipynb',\n",
       " 'mysql.ipynb',\n",
       " 'mysql1.ipynb',\n",
       " 'mysql2.ipynb',\n",
       " 'my_pickle',\n",
       " 'NetHood',\n",
       " 'NTUSER.DAT',\n",
       " 'ntuser.dat.LOG1',\n",
       " 'ntuser.dat.LOG2',\n",
       " 'NTUSER.DAT{fd9a35db-49fe-11e9-aa2c-248a07783950}.TM.blf',\n",
       " 'NTUSER.DAT{fd9a35db-49fe-11e9-aa2c-248a07783950}.TMContainer00000000000000000001.regtrans-ms',\n",
       " 'NTUSER.DAT{fd9a35db-49fe-11e9-aa2c-248a07783950}.TMContainer00000000000000000002.regtrans-ms',\n",
       " 'ntuser.ini',\n",
       " 'ntuser.pol',\n",
       " 'numpy class.ipynb',\n",
       " 'numpy practice.ipynb',\n",
       " 'OneDrive',\n",
       " 'oops concepts 2.ipynb',\n",
       " 'oops examples.ipynb',\n",
       " 'opps concepts.ipynb',\n",
       " 'PANDAS.ipynb',\n",
       " 'PANDAS1.ipynb',\n",
       " 'pands data manipulation.ipynb',\n",
       " 'PCA.ipynb',\n",
       " 'pdpandas.ipynb',\n",
       " 'Pictures',\n",
       " 'polymorphism and statistics.ipynb',\n",
       " 'Postman',\n",
       " 'practice cassandra.ipynb',\n",
       " 'practice dt.ipynb',\n",
       " 'practice ML.ipynb',\n",
       " 'practice ML2.ipynb',\n",
       " 'practice pandas.ipynb',\n",
       " 'practice.log',\n",
       " 'practicing all ML.ipynb',\n",
       " 'PrintHood',\n",
       " 'programming 2.ipynb',\n",
       " 'programming assignment 10.ipynb',\n",
       " 'programming assignment 13.ipynb',\n",
       " 'programming assignment 14.ipynb',\n",
       " 'programming assignment 8.ipynb',\n",
       " 'programming assignment 9.ipynb',\n",
       " 'programming assignment-15.ipynb',\n",
       " 'py assignment 6.ipynb',\n",
       " 'py basic programming 5.ipynb',\n",
       " 'py programming 6.ipynb',\n",
       " 'py programming assignment 4.ipynb',\n",
       " 'python advance assignment-1.ipynb',\n",
       " 'python basic assignment 3.ipynb',\n",
       " 'ralgging',\n",
       " 'RANDOM FOREST and KNN.ipynb',\n",
       " 'Recent',\n",
       " 'result.csv',\n",
       " 'result1.csv',\n",
       " 'result2.csv',\n",
       " 'result3.csv',\n",
       " 'Saved Games',\n",
       " 'scrapping ratings.ipynb',\n",
       " 'seaborn-data',\n",
       " 'Searches',\n",
       " 'SendTo',\n",
       " 'sql practice.ipynb',\n",
       " 'Start Menu',\n",
       " 'Templates',\n",
       " 'test',\n",
       " 'test.csv',\n",
       " 'test.h5',\n",
       " 'test1.h5',\n",
       " 'test1.html',\n",
       " 'test_csv',\n",
       " 'thisdata.csv',\n",
       " 'tit',\n",
       " 'tit1',\n",
       " 'today.txt',\n",
       " 'Untitled.ipynb',\n",
       " 'Untitled1.ipynb',\n",
       " 'Untitled10.ipynb',\n",
       " 'Untitled11.ipynb',\n",
       " 'Untitled12.ipynb',\n",
       " 'Untitled13.ipynb',\n",
       " 'Untitled14.ipynb',\n",
       " 'Untitled15.ipynb',\n",
       " 'Untitled16.ipynb',\n",
       " 'Untitled17.ipynb',\n",
       " 'Untitled18.ipynb',\n",
       " 'Untitled19.ipynb',\n",
       " 'Untitled2.ipynb',\n",
       " 'Untitled20.ipynb',\n",
       " 'Untitled21.ipynb',\n",
       " 'Untitled22.ipynb',\n",
       " 'Untitled23.ipynb',\n",
       " 'Untitled24.ipynb',\n",
       " 'Untitled25.ipynb',\n",
       " 'Untitled26.ipynb',\n",
       " 'Untitled27.ipynb',\n",
       " 'Untitled28.ipynb',\n",
       " 'Untitled29.ipynb',\n",
       " 'Untitled3.ipynb',\n",
       " 'Untitled4.ipynb',\n",
       " 'Untitled5.ipynb',\n",
       " 'Untitled6.ipynb',\n",
       " 'Untitled7.ipynb',\n",
       " 'Untitled8.ipynb',\n",
       " 'Untitled9.ipynb',\n",
       " 'Videos',\n",
       " 'whylog',\n",
       " 'whylog.txt',\n",
       " '__pycache__']"
      ]
     },
     "execution_count": 8,
     "metadata": {},
     "output_type": "execute_result"
    }
   ],
   "source": [
    "#Q4\n",
    "import os\n",
    "os.listdir()"
   ]
  },
  {
   "cell_type": "code",
   "execution_count": 27,
   "id": "5eae6727",
   "metadata": {},
   "outputs": [
    {
     "data": {
      "text/plain": [
       "['All Users', 'Default', 'Default User', 'desktop.ini', 'Public', 'snopy']"
      ]
     },
     "execution_count": 27,
     "metadata": {},
     "output_type": "execute_result"
    }
   ],
   "source": [
    "#Q5\n",
    "import os\n",
    "os.listdir('..')"
   ]
  },
  {
   "cell_type": "code",
   "execution_count": 42,
   "id": "a98b44ab",
   "metadata": {},
   "outputs": [
    {
     "name": "stdout",
     "output_type": "stream",
     "text": [
      "wait 0.07957004204170315  seconds time is  2021-11-24 07:16:31.327147\n"
     ]
    }
   ],
   "source": [
    "#Q6\n",
    "import multiprocessing as mlt\n",
    "from datetime import datetime\n",
    "from time import sleep\n",
    "import random\n",
    "\n",
    "def now(seconds):\n",
    "    sleep(seconds)\n",
    "    print(\"wait\",seconds,\" seconds\",\"time is \",datetime.now())\n",
    "    \n",
    "if __name__ == \"__main__\":\n",
    "    for n in range(3):\n",
    "        seconds = random.random()\n",
    "        res = mlt.Process(target=now,args=(seconds,))\n",
    "        res.start()\n",
    "now(seconds)"
   ]
  },
  {
   "cell_type": "code",
   "execution_count": 23,
   "id": "77bafbb7",
   "metadata": {},
   "outputs": [
    {
     "name": "stdout",
     "output_type": "stream",
     "text": [
      "1999-08-17\n"
     ]
    }
   ],
   "source": [
    "#Q7\n",
    "DOB = date(1999,8,17)\n",
    "print(DOB)"
   ]
  },
  {
   "cell_type": "code",
   "execution_count": 24,
   "id": "6f776e63",
   "metadata": {},
   "outputs": [
    {
     "data": {
      "text/plain": [
       "1"
      ]
     },
     "execution_count": 24,
     "metadata": {},
     "output_type": "execute_result"
    }
   ],
   "source": [
    "#Q8\n",
    "DOB.weekday()"
   ]
  },
  {
   "cell_type": "code",
   "execution_count": 26,
   "id": "249a3564",
   "metadata": {},
   "outputs": [
    {
     "name": "stdout",
     "output_type": "stream",
     "text": [
      "i will be 10000 days old on 2027-01-02\n"
     ]
    }
   ],
   "source": [
    "#Q9\n",
    "from datetime import timedelta\n",
    "day_1000 = DOB + timedelta(days=10000)\n",
    "print(\"i will be 10000 days old on\",day_1000)"
   ]
  },
  {
   "cell_type": "code",
   "execution_count": null,
   "id": "3a290560",
   "metadata": {},
   "outputs": [],
   "source": []
  }
 ],
 "metadata": {
  "kernelspec": {
   "display_name": "Python 3",
   "language": "python",
   "name": "python3"
  },
  "language_info": {
   "codemirror_mode": {
    "name": "ipython",
    "version": 3
   },
   "file_extension": ".py",
   "mimetype": "text/x-python",
   "name": "python",
   "nbconvert_exporter": "python",
   "pygments_lexer": "ipython3",
   "version": "3.8.8"
  }
 },
 "nbformat": 4,
 "nbformat_minor": 5
}
