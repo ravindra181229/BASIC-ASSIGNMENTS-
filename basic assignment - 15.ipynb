{
 "cells": [
  {
   "cell_type": "markdown",
   "id": "8888c163",
   "metadata": {},
   "source": [
    "# python basic assignment -15"
   ]
  },
  {
   "cell_type": "code",
   "execution_count": 6,
   "id": "25315809",
   "metadata": {},
   "outputs": [],
   "source": [
    "#Q1\n",
    "second_in_an_hour = 60*60"
   ]
  },
  {
   "cell_type": "code",
   "execution_count": 10,
   "id": "b931a409",
   "metadata": {},
   "outputs": [],
   "source": [
    "#Q2\n",
    "second_per_hour = second_in_an_hour"
   ]
  },
  {
   "cell_type": "code",
   "execution_count": 14,
   "id": "2d341517",
   "metadata": {},
   "outputs": [],
   "source": [
    "#Q3\n",
    "second_per_hour = 24 * second_per_hour"
   ]
  },
  {
   "cell_type": "code",
   "execution_count": 32,
   "id": "548fb51a",
   "metadata": {},
   "outputs": [],
   "source": [
    "#Q4\n",
    "second_per_day = 24 * second_per_hour"
   ]
  },
  {
   "cell_type": "code",
   "execution_count": 18,
   "id": "6a750044",
   "metadata": {},
   "outputs": [
    {
     "data": {
      "text/plain": [
       "24.0"
      ]
     },
     "execution_count": 18,
     "metadata": {},
     "output_type": "execute_result"
    }
   ],
   "source": [
    "#Q5\n",
    "second_per_day / second_per_hour"
   ]
  },
  {
   "cell_type": "code",
   "execution_count": 20,
   "id": "24cd5cbf",
   "metadata": {},
   "outputs": [
    {
     "data": {
      "text/plain": [
       "24"
      ]
     },
     "execution_count": 20,
     "metadata": {},
     "output_type": "execute_result"
    }
   ],
   "source": [
    "#Q6\n",
    "second_per_day // second_per_hour"
   ]
  },
  {
   "cell_type": "code",
   "execution_count": 8,
   "id": "e5fba21e",
   "metadata": {},
   "outputs": [
    {
     "data": {
      "text/plain": [
       "<generator object genPrimes at 0x000001CBECB8B890>"
      ]
     },
     "execution_count": 8,
     "metadata": {},
     "output_type": "execute_result"
    }
   ],
   "source": [
    "#Q7\n",
    "def genPrimes():\n",
    "    primes = [2]\n",
    "    yield primes[0]\n",
    "    guess = 3\n",
    "    while True:\n",
    "        if all(guess%x != 0 for x in primes):\n",
    "            primes.append(guess)        \n",
    "        if guess == primes[-1]:\n",
    "            yield primes[-1]\n",
    "        guess += 2\n",
    "genPrimes()"
   ]
  },
  {
   "cell_type": "code",
   "execution_count": null,
   "id": "97894762",
   "metadata": {},
   "outputs": [],
   "source": []
  }
 ],
 "metadata": {
  "kernelspec": {
   "display_name": "Python 3",
   "language": "python",
   "name": "python3"
  },
  "language_info": {
   "codemirror_mode": {
    "name": "ipython",
    "version": 3
   },
   "file_extension": ".py",
   "mimetype": "text/x-python",
   "name": "python",
   "nbconvert_exporter": "python",
   "pygments_lexer": "ipython3",
   "version": "3.8.8"
  }
 },
 "nbformat": 4,
 "nbformat_minor": 5
}
