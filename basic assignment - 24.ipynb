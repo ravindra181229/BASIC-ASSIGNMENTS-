{
 "cells": [
  {
   "cell_type": "code",
   "execution_count": 1,
   "id": "9091f961",
   "metadata": {},
   "outputs": [
    {
     "data": {
      "text/plain": [
       "' def statement :- def statement can hold multiple expressions \\ndef generates a function and returns the statement \\nlambda expression :- lambda consist only a single expression \\nlambda cant return a statement'"
      ]
     },
     "execution_count": 1,
     "metadata": {},
     "output_type": "execute_result"
    }
   ],
   "source": [
    "#Q1\n",
    "''' def statement :- def statement can hold multiple expressions \n",
    "def generates a function and returns the statement \n",
    "lambda expression :- lambda consist only a single expression \n",
    "lambda cant return a statement'''"
   ]
  },
  {
   "cell_type": "code",
   "execution_count": 5,
   "id": "3c2b7fac",
   "metadata": {},
   "outputs": [
    {
     "data": {
      "text/plain": [
       "'lambda keyword provides a shortcut for declaring small anonymous function\\nlamdba makes code more readable'"
      ]
     },
     "execution_count": 5,
     "metadata": {},
     "output_type": "execute_result"
    }
   ],
   "source": [
    "#Q2\n",
    "'''lambda keyword provides a shortcut for declaring small anonymous function\n",
    "lamdba makes code more readable'''"
   ]
  },
  {
   "cell_type": "code",
   "execution_count": 6,
   "id": "623f4d54",
   "metadata": {},
   "outputs": [
    {
     "data": {
      "text/plain": [
       "'map:- takes all objects in a list and allows to apply a function to it\\nfilter:- takes all the objects in a list and runs that through a function to create a new list\\nreduce:- it does not return a new list , instead it returns a single value'"
      ]
     },
     "execution_count": 6,
     "metadata": {},
     "output_type": "execute_result"
    }
   ],
   "source": [
    "#Q3\n",
    "'''map:- takes all objects in a list and allows to apply a function to it\n",
    "filter:- takes all the objects in a list and runs that through a function to create a new list\n",
    "reduce:- it does not return a new list , instead it returns a single value'''"
   ]
  },
  {
   "cell_type": "code",
   "execution_count": 11,
   "id": "d4a0930b",
   "metadata": {},
   "outputs": [
    {
     "data": {
      "text/plain": [
       "'function annotations is a way of associating arbitrary python expressions with various parts of function at compile time'"
      ]
     },
     "execution_count": 11,
     "metadata": {},
     "output_type": "execute_result"
    }
   ],
   "source": [
    "#Q4\n",
    "'''function annotations is a way of associating arbitrary python expressions with various parts of function at compile time'''"
   ]
  },
  {
   "cell_type": "code",
   "execution_count": 14,
   "id": "6b1d9895",
   "metadata": {},
   "outputs": [
    {
     "data": {
      "text/plain": [
       "'it is a function that calls itself during execution\\nrecursive function uses recursion to count from any number between 1-9 to 10'"
      ]
     },
     "execution_count": 14,
     "metadata": {},
     "output_type": "execute_result"
    }
   ],
   "source": [
    "#Q5\n",
    "'''it is a function that calls itself during execution\n",
    "recursive function uses recursion to count from any number between 1-9 to 10'''"
   ]
  },
  {
   "cell_type": "code",
   "execution_count": 17,
   "id": "fb8977e0",
   "metadata": {},
   "outputs": [
    {
     "data": {
      "text/plain": [
       "'we should use only limited globals\\nwe use provide headers for modules\\nindentations\\nhandling exceptons \\nnaming conventions for local variables,global variables,constants and functions'"
      ]
     },
     "execution_count": 17,
     "metadata": {},
     "output_type": "execute_result"
    }
   ],
   "source": [
    "#Q6\n",
    "'''we should use only limited globals\n",
    "we use provide headers for modules\n",
    "indentations\n",
    "handling exceptons \n",
    "naming conventions for local variables,global variables,constants and functions'''"
   ]
  },
  {
   "cell_type": "code",
   "execution_count": 20,
   "id": "5f7d6af4",
   "metadata": {},
   "outputs": [
    {
     "data": {
      "text/plain": [
       "'print(), input(), compile(), exec()'"
      ]
     },
     "execution_count": 20,
     "metadata": {},
     "output_type": "execute_result"
    }
   ],
   "source": [
    "#Q7\n",
    "'''print(), input(), compile(), exec()'''"
   ]
  },
  {
   "cell_type": "code",
   "execution_count": null,
   "id": "0926c429",
   "metadata": {},
   "outputs": [],
   "source": []
  }
 ],
 "metadata": {
  "kernelspec": {
   "display_name": "Python 3",
   "language": "python",
   "name": "python3"
  },
  "language_info": {
   "codemirror_mode": {
    "name": "ipython",
    "version": 3
   },
   "file_extension": ".py",
   "mimetype": "text/x-python",
   "name": "python",
   "nbconvert_exporter": "python",
   "pygments_lexer": "ipython3",
   "version": "3.8.8"
  }
 },
 "nbformat": 4,
 "nbformat_minor": 5
}
