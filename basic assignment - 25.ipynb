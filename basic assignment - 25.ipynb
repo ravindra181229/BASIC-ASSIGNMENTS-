{
 "cells": [
  {
   "cell_type": "markdown",
   "id": "d8cebf61",
   "metadata": {},
   "source": [
    "# python basic assignment - 25"
   ]
  },
  {
   "cell_type": "code",
   "execution_count": 1,
   "id": "80c97088",
   "metadata": {},
   "outputs": [
    {
     "data": {
      "text/plain": [
       "'the difference is square brackets are list \\nand parentheses are tuples'"
      ]
     },
     "execution_count": 1,
     "metadata": {},
     "output_type": "execute_result"
    }
   ],
   "source": [
    "#Q1\n",
    "'''the difference is square brackets are list \n",
    "and parentheses are tuples'''"
   ]
  },
  {
   "cell_type": "code",
   "execution_count": 4,
   "id": "48a6d63d",
   "metadata": {},
   "outputs": [
    {
     "data": {
      "text/plain": [
       "'the difference is generator saves the local variables whenever yield pauses the loop \\nthe iterator does not make use of loacl variable it needs iterable to iterate'"
      ]
     },
     "execution_count": 4,
     "metadata": {},
     "output_type": "execute_result"
    }
   ],
   "source": [
    "#Q2\n",
    "'''the difference is generator saves the local variables whenever yield pauses the loop \n",
    "the iterator does not make use of loacl variable it needs iterable to iterate'''"
   ]
  },
  {
   "cell_type": "code",
   "execution_count": 7,
   "id": "46ae72d5",
   "metadata": {},
   "outputs": [
    {
     "data": {
      "text/plain": [
       "'if function contains atleast one \"yield\" statement than it is a generator function'"
      ]
     },
     "execution_count": 7,
     "metadata": {},
     "output_type": "execute_result"
    }
   ],
   "source": [
    "#Q3\n",
    "'''if function contains atleast one \"yield\" statement than it is a generator function'''"
   ]
  },
  {
   "cell_type": "code",
   "execution_count": 12,
   "id": "24a07b60",
   "metadata": {},
   "outputs": [
    {
     "data": {
      "text/plain": [
       "'insted of stopping the execution yield statement provides a value to the code looping over the generator\\nand it pauses execution of the generator function'"
      ]
     },
     "execution_count": 12,
     "metadata": {},
     "output_type": "execute_result"
    }
   ],
   "source": [
    "#Q4\n",
    "'''insted of stopping the execution yield statement provides a value to the code looping over the generator\n",
    "and it pauses execution of the generator function'''"
   ]
  },
  {
   "cell_type": "code",
   "execution_count": 17,
   "id": "eb86f386",
   "metadata": {},
   "outputs": [
    {
     "data": {
      "text/plain": [
       "'list comprehension is easier to read , map is hard to read compare to list comprehension\\nlist comprehension are used when a list of result is required. map does not returns list , it only returns a map object\\nmap is faster compared to list in case of calling an already defined function '"
      ]
     },
     "execution_count": 17,
     "metadata": {},
     "output_type": "execute_result"
    }
   ],
   "source": [
    "#Q5\n",
    "'''list comprehension is easier to read , map is hard to read compare to list comprehension\n",
    "list comprehension are used when a list of result is required. map does not returns list , it only returns a map object\n",
    "map is faster compared to list in case of calling an already defined function '''"
   ]
  },
  {
   "cell_type": "code",
   "execution_count": null,
   "id": "60e5d68e",
   "metadata": {},
   "outputs": [],
   "source": []
  }
 ],
 "metadata": {
  "kernelspec": {
   "display_name": "Python 3",
   "language": "python",
   "name": "python3"
  },
  "language_info": {
   "codemirror_mode": {
    "name": "ipython",
    "version": 3
   },
   "file_extension": ".py",
   "mimetype": "text/x-python",
   "name": "python",
   "nbconvert_exporter": "python",
   "pygments_lexer": "ipython3",
   "version": "3.8.8"
  }
 },
 "nbformat": 4,
 "nbformat_minor": 5
}
