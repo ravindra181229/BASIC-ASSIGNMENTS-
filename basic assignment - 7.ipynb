{
 "cells": [
  {
   "cell_type": "code",
   "execution_count": 4,
   "id": "590a71f2",
   "metadata": {},
   "outputs": [
    {
     "data": {
      "text/plain": [
       "'re.compile() function is to create regex object'"
      ]
     },
     "execution_count": 4,
     "metadata": {},
     "output_type": "execute_result"
    }
   ],
   "source": [
    "#Q1\n",
    "'''re.compile() function is to create regex object'''"
   ]
  },
  {
   "cell_type": "code",
   "execution_count": 5,
   "id": "853626aa",
   "metadata": {},
   "outputs": [
    {
     "data": {
      "text/plain": [
       "\"regex strings often use \\\\ blackslashes ,so they are often raw strings r'/d' \""
      ]
     },
     "execution_count": 5,
     "metadata": {},
     "output_type": "execute_result"
    }
   ],
   "source": [
    "#Q2\n",
    "'''regex strings often use \\ blackslashes ,so they are often raw strings r'/d' '''"
   ]
  },
  {
   "cell_type": "code",
   "execution_count": 8,
   "id": "6f1b38a7",
   "metadata": {},
   "outputs": [
    {
     "data": {
      "text/plain": [
       "'search() method returns a match object \\nif match fails it returns none'"
      ]
     },
     "execution_count": 8,
     "metadata": {},
     "output_type": "execute_result"
    }
   ],
   "source": [
    "#Q3\n",
    "'''search() method returns a match object \n",
    "if match fails it returns none'''"
   ]
  },
  {
   "cell_type": "code",
   "execution_count": 9,
   "id": "7ed5f7b6",
   "metadata": {},
   "outputs": [
    {
     "data": {
      "text/plain": [
       "'call match group match() method to get the matched string'"
      ]
     },
     "execution_count": 9,
     "metadata": {},
     "output_type": "execute_result"
    }
   ],
   "source": [
    "#Q4\n",
    "'''call match group match() method to get the matched string'''"
   ]
  },
  {
   "cell_type": "code",
   "execution_count": 10,
   "id": "52c8e160",
   "metadata": {},
   "outputs": [
    {
     "data": {
      "text/plain": [
       "'the group(0) returns full matching string\\nthe first set of parentheses is group 1 \\nthe second is group 2'"
      ]
     },
     "execution_count": 10,
     "metadata": {},
     "output_type": "execute_result"
    }
   ],
   "source": [
    "#Q5\n",
    "'''the group(0) returns full matching string\n",
    "the first set of parentheses is group 1 \n",
    "the second is group 2'''"
   ]
  },
  {
   "cell_type": "code",
   "execution_count": 11,
   "id": "3b35aa8b",
   "metadata": {},
   "outputs": [
    {
     "data": {
      "text/plain": [
       "'we can use \\\\ to match the literal parentheses in the regex string'"
      ]
     },
     "execution_count": 11,
     "metadata": {},
     "output_type": "execute_result"
    }
   ],
   "source": [
    "#Q6\n",
    "'''we can use \\ to match the literal parentheses in the regex string'''"
   ]
  },
  {
   "cell_type": "code",
   "execution_count": 13,
   "id": "8f166fb9",
   "metadata": {},
   "outputs": [
    {
     "data": {
      "text/plain": [
       "'if the regex has 0 or group 1 findall() returns a list of string \\nif the regex has 2 or more groups findall() returns a list of tuples of string'"
      ]
     },
     "execution_count": 13,
     "metadata": {},
     "output_type": "execute_result"
    }
   ],
   "source": [
    "#Q7\n",
    "'''if the regex has 0 or group 1 findall() returns a list of string \n",
    "if the regex has 2 or more groups findall() returns a list of tuples of strings'''"
   ]
  },
  {
   "cell_type": "code",
   "execution_count": 22,
   "id": "597f0ee8",
   "metadata": {},
   "outputs": [
    {
     "data": {
      "text/plain": [
       "'the | pipe can match one of many possible groups'"
      ]
     },
     "execution_count": 22,
     "metadata": {},
     "output_type": "execute_result"
    }
   ],
   "source": [
    "#Q8\n",
    "'''the | pipe can match one of many possible groups'''"
   ]
  },
  {
   "cell_type": "code",
   "execution_count": 21,
   "id": "816004ef",
   "metadata": {},
   "outputs": [
    {
     "data": {
      "text/plain": [
       "'Regular expressions are special strings representing a pattern to be matched in a search operation\\n\"a\" means match lowercase a\\n\"^a\" means do not match lowercase a'"
      ]
     },
     "execution_count": 21,
     "metadata": {},
     "output_type": "execute_result"
    }
   ],
   "source": [
    "#Q9\n",
    "'''Regular expressions are special strings representing a pattern to be matched in a search operation\n",
    "\"a\" means match lowercase a\n",
    "\"^a\" means do not match lowercase a'''"
   ]
  },
  {
   "cell_type": "code",
   "execution_count": 12,
   "id": "a5326df7",
   "metadata": {},
   "outputs": [
    {
     "data": {
      "text/plain": [
       "'the + matches one or more times \\nthe * matches zero or more times'"
      ]
     },
     "execution_count": 12,
     "metadata": {},
     "output_type": "execute_result"
    }
   ],
   "source": [
    "#10\n",
    "'''the + matches one or more times \n",
    "the * matches zero or more times'''"
   ]
  },
  {
   "cell_type": "code",
   "execution_count": 1,
   "id": "4d8d2ec8",
   "metadata": {},
   "outputs": [
    {
     "data": {
      "text/plain": [
       "\"Specifies that exactly  copies of the previous re should be matched \\nfewer matches cause the entire RE not to match. For example, a{4} will match exactly six 'a' characters, but not five\\n\\nthe resulting RE to match from 4 to 5 repetitions of the preceding RE\\nattempting to match as many repetitions as possible. For example, a{4,5} will match from 4 to 5 'a' characters\""
      ]
     },
     "execution_count": 1,
     "metadata": {},
     "output_type": "execute_result"
    }
   ],
   "source": [
    "#Q11\n",
    "'''Specifies that exactly  copies of the previous re should be matched \n",
    "fewer matches cause the entire RE not to match. For example, a{4} will match exactly six 'a' characters, but not five\n",
    "\n",
    "the resulting RE to match from 4 to 5 repetitions of the preceding RE\n",
    "attempting to match as many repetitions as possible. For example, a{4,5} will match from 4 to 5 'a' characters'''"
   ]
  },
  {
   "cell_type": "code",
   "execution_count": 14,
   "id": "95207e4c",
   "metadata": {},
   "outputs": [
    {
     "data": {
      "text/plain": [
       "'\\\\d is a shorthand character class that matches digits\\n\\\\w matches word characters\\n\\\\s matches whitespace characters'"
      ]
     },
     "execution_count": 14,
     "metadata": {},
     "output_type": "execute_result"
    }
   ],
   "source": [
    "#Q12\n",
    "'''\\d is a shorthand character class that matches digits\n",
    "\\w matches word characters\n",
    "\\s matches whitespace characters'''"
   ]
  },
  {
   "cell_type": "code",
   "execution_count": 15,
   "id": "b74b1e2f",
   "metadata": {},
   "outputs": [
    {
     "data": {
      "text/plain": [
       "'The uppercase shorthand character classes \\\\D, \\\\W, and \\\\S match charaters that are not digits, word characters, and whitespace'"
      ]
     },
     "execution_count": 15,
     "metadata": {},
     "output_type": "execute_result"
    }
   ],
   "source": [
    "#Q13\n",
    "'''The uppercase shorthand character classes \\D, \\W, and \\S match charaters that are not digits, word characters, and whitespace'''"
   ]
  },
  {
   "cell_type": "code",
   "execution_count": 2,
   "id": "7835dbc7",
   "metadata": {},
   "outputs": [
    {
     "data": {
      "text/plain": [
       "'(.*?) matches any character (.) any number of times (*), as few times as possible to make the regex match (?)\\nYou will get a match on any string, but you will only capture a blank string because of the question mark.'"
      ]
     },
     "execution_count": 2,
     "metadata": {},
     "output_type": "execute_result"
    }
   ],
   "source": [
    "#Q14\n",
    "'''(.*?) matches any character (.) any number of times (*), as few times as possible to make the regex match (?)\n",
    "You will get a match on any string, but you will only capture a blank string because of the question mark.'''"
   ]
  },
  {
   "cell_type": "code",
   "execution_count": 19,
   "id": "d8a2f0d3",
   "metadata": {},
   "outputs": [
    {
     "data": {
      "text/plain": [
       "'_ ^ means the string must start with pattern\\n$ means the string must end with the pattern\\nBoth means the entire string must match the entire pattern'"
      ]
     },
     "execution_count": 19,
     "metadata": {},
     "output_type": "execute_result"
    }
   ],
   "source": [
    "#Q15\n",
    "'''_ ^ means the string must start with pattern\n",
    "$ means the string must end with the pattern\n",
    "Both means the entire string must match the entire pattern'''"
   ]
  },
  {
   "cell_type": "code",
   "execution_count": 18,
   "id": "1ed30084",
   "metadata": {},
   "outputs": [
    {
     "data": {
      "text/plain": [
       "'Pass re.I as the second argument to re.compile() to make the matching case-insensitive.'"
      ]
     },
     "execution_count": 18,
     "metadata": {},
     "output_type": "execute_result"
    }
   ],
   "source": [
    "#Q16\n",
    "'''Pass re.I as the second argument to re.compile() to make the matching case-insensitive.'''"
   ]
  },
  {
   "cell_type": "code",
   "execution_count": 16,
   "id": "4ee32a89",
   "metadata": {},
   "outputs": [
    {
     "data": {
      "text/plain": [
       "'The . dot is a wildcard it matches any character except newlines\\nwe should Pass re.DOTALL as the second argument to re.compile() to make the . dot match newlines as well.'"
      ]
     },
     "execution_count": 16,
     "metadata": {},
     "output_type": "execute_result"
    }
   ],
   "source": [
    "#Q17\n",
    "'''The . dot is a wildcard it matches any character except newlines\n",
    "we should Pass re.DOTALL as the second argument to re.compile() to make the . dot match newlines as well.'''"
   ]
  },
  {
   "cell_type": "code",
   "execution_count": 17,
   "id": "993da6dc",
   "metadata": {},
   "outputs": [
    {
     "data": {
      "text/plain": [
       "'Passing re.VERBOSE lets you add whitespace and comments to the regex string passed to re.compile()'"
      ]
     },
     "execution_count": 17,
     "metadata": {},
     "output_type": "execute_result"
    }
   ],
   "source": [
    "#Q19\n",
    "'''Passing re.VERBOSE lets you add whitespace and comments to the regex string passed to re.compile()'''"
   ]
  },
  {
   "cell_type": "code",
   "execution_count": null,
   "id": "bd592fb3",
   "metadata": {},
   "outputs": [],
   "source": []
  }
 ],
 "metadata": {
  "kernelspec": {
   "display_name": "Python 3",
   "language": "python",
   "name": "python3"
  },
  "language_info": {
   "codemirror_mode": {
    "name": "ipython",
    "version": 3
   },
   "file_extension": ".py",
   "mimetype": "text/x-python",
   "name": "python",
   "nbconvert_exporter": "python",
   "pygments_lexer": "ipython3",
   "version": "3.8.8"
  }
 },
 "nbformat": 4,
 "nbformat_minor": 5
}
