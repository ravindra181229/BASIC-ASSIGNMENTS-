{
 "cells": [
  {
   "cell_type": "code",
   "execution_count": 2,
   "id": "f395b7ba",
   "metadata": {},
   "outputs": [
    {
     "name": "stdout",
     "output_type": "stream",
     "text": [
      "[1999, 2000, 2001, 2002, 2003, 2004]\n"
     ]
    }
   ],
   "source": [
    "#Q1\n",
    "years_list = [1999,2000,2001,2002,2003,2004]\n",
    "print(years_list)"
   ]
  },
  {
   "cell_type": "code",
   "execution_count": 4,
   "id": "9f1cb5fa",
   "metadata": {},
   "outputs": [
    {
     "name": "stdout",
     "output_type": "stream",
     "text": [
      "the third birthday was 2002\n"
     ]
    }
   ],
   "source": [
    "#Q2\n",
    "print(\"the third birthday was\",years_list[3])"
   ]
  },
  {
   "cell_type": "code",
   "execution_count": 5,
   "id": "c1e763e9",
   "metadata": {},
   "outputs": [
    {
     "name": "stdout",
     "output_type": "stream",
     "text": [
      "the oldest was 2004\n"
     ]
    }
   ],
   "source": [
    "#Q3\n",
    "print(\"the oldest was\",max(years_list))"
   ]
  },
  {
   "cell_type": "code",
   "execution_count": 7,
   "id": "6346fde2",
   "metadata": {},
   "outputs": [
    {
     "name": "stdout",
     "output_type": "stream",
     "text": [
      "['mozzarella', 'cinderella', 'salmonella']\n"
     ]
    }
   ],
   "source": [
    "#Q4\n",
    "things = ['mozzarella', 'cinderella', 'salmonella']\n",
    "print(things)"
   ]
  },
  {
   "cell_type": "code",
   "execution_count": 15,
   "id": "38a991f7",
   "metadata": {},
   "outputs": [
    {
     "name": "stdout",
     "output_type": "stream",
     "text": [
      "Mozzarella\n",
      "Cinderella\n",
      "Salmonella\n",
      "['mozzarella', 'cinderella', 'salmonella']\n"
     ]
    }
   ],
   "source": [
    "#Q5\n",
    "for i in things:\n",
    "    print(i.capitalize())\n",
    "print(things)"
   ]
  },
  {
   "cell_type": "code",
   "execution_count": 16,
   "id": "3c1ebbc7",
   "metadata": {},
   "outputs": [
    {
     "name": "stdout",
     "output_type": "stream",
     "text": [
      "['Groucho', 'chico', 'Harpo']\n"
     ]
    }
   ],
   "source": [
    "#Q6\n",
    "suprise = [\"Groucho\",\"chico\",\"Harpo\"]\n",
    "print(suprise)"
   ]
  },
  {
   "cell_type": "code",
   "execution_count": 19,
   "id": "87540b24",
   "metadata": {},
   "outputs": [
    {
     "data": {
      "text/plain": [
       "'Harpo'"
      ]
     },
     "execution_count": 19,
     "metadata": {},
     "output_type": "execute_result"
    }
   ],
   "source": [
    "#Q7\n",
    "result = suprise[-1].lower()\n",
    "result[::-1]\n",
    "result.capitalize()"
   ]
  },
  {
   "cell_type": "code",
   "execution_count": 23,
   "id": "0776c447",
   "metadata": {},
   "outputs": [
    {
     "name": "stdout",
     "output_type": "stream",
     "text": [
      "{'dog': 'chien', 'cat': 'chat', 'walrus': 'morse'}\n"
     ]
    }
   ],
   "source": [
    "#Q8\n",
    "e2f = {'dog':'chien', 'cat':'chat', 'walrus':'morse'}\n",
    "print(e2f)"
   ]
  },
  {
   "cell_type": "code",
   "execution_count": 26,
   "id": "5306093c",
   "metadata": {},
   "outputs": [
    {
     "name": "stdout",
     "output_type": "stream",
     "text": [
      "the french word for walrus is morse\n"
     ]
    }
   ],
   "source": [
    "#Q9\n",
    "print(\"the french word for walrus is\",e2f['walrus'])"
   ]
  },
  {
   "cell_type": "code",
   "execution_count": 30,
   "id": "383cb46b",
   "metadata": {},
   "outputs": [
    {
     "name": "stdout",
     "output_type": "stream",
     "text": [
      "{'chien': 'dog', 'chat': 'cat', 'morse': 'walrus'}\n"
     ]
    }
   ],
   "source": [
    "#Q10\n",
    "f2e = dict((i,j) for j,i in e2f.items())\n",
    "print(f2e)"
   ]
  },
  {
   "cell_type": "code",
   "execution_count": 32,
   "id": "8969ac76",
   "metadata": {},
   "outputs": [
    {
     "name": "stdout",
     "output_type": "stream",
     "text": [
      "dog\n"
     ]
    }
   ],
   "source": [
    "#Q11\n",
    "print(f2e['chien'])"
   ]
  },
  {
   "cell_type": "code",
   "execution_count": 35,
   "id": "44209507",
   "metadata": {},
   "outputs": [
    {
     "name": "stdout",
     "output_type": "stream",
     "text": [
      "dict_keys(['dog', 'cat', 'walrus'])\n"
     ]
    }
   ],
   "source": [
    "#Q12\n",
    "print(e2f.keys())"
   ]
  },
  {
   "cell_type": "code",
   "execution_count": 40,
   "id": "5a3064dc",
   "metadata": {},
   "outputs": [
    {
     "name": "stdout",
     "output_type": "stream",
     "text": [
      "{'cats': ['Henri', 'Grumpy', 'Lucy'], 'octopi': '', 'emus': ''}\n",
      "{'animal': {'cats': ['Henri', 'Grumpy', 'Lucy'], 'octopi': '', 'emus': ''}, 'plants': '', 'other': ''}\n"
     ]
    }
   ],
   "source": [
    "#Q13\n",
    "animal ={'cats':['Henri','Grumpy','Lucy'],'octopi':'','emus':''}\n",
    "life ={'animal':animal,'plants':'','other':''}\n",
    "print(animal)\n",
    "print(life)"
   ]
  },
  {
   "cell_type": "code",
   "execution_count": 42,
   "id": "957d3b5c",
   "metadata": {},
   "outputs": [
    {
     "name": "stdout",
     "output_type": "stream",
     "text": [
      "dict_keys(['animal', 'plants', 'other'])\n"
     ]
    }
   ],
   "source": [
    "#Q14\n",
    "print(life.keys())"
   ]
  },
  {
   "cell_type": "code",
   "execution_count": 43,
   "id": "e4eca124",
   "metadata": {},
   "outputs": [
    {
     "name": "stdout",
     "output_type": "stream",
     "text": [
      "dict_keys(['cats', 'octopi', 'emus'])\n"
     ]
    }
   ],
   "source": [
    "#Q15\n",
    "print(life['animal'].keys())"
   ]
  },
  {
   "cell_type": "code",
   "execution_count": 46,
   "id": "6f874a87",
   "metadata": {},
   "outputs": [
    {
     "name": "stdout",
     "output_type": "stream",
     "text": [
      "['Henri', 'Grumpy', 'Lucy']\n"
     ]
    }
   ],
   "source": [
    "#Q16\n",
    "print(life['animal']['cats'])"
   ]
  },
  {
   "cell_type": "code",
   "execution_count": null,
   "id": "5dc4604e",
   "metadata": {},
   "outputs": [],
   "source": []
  }
 ],
 "metadata": {
  "kernelspec": {
   "display_name": "Python 3",
   "language": "python",
   "name": "python3"
  },
  "language_info": {
   "codemirror_mode": {
    "name": "ipython",
    "version": 3
   },
   "file_extension": ".py",
   "mimetype": "text/x-python",
   "name": "python",
   "nbconvert_exporter": "python",
   "pygments_lexer": "ipython3",
   "version": "3.8.8"
  }
 },
 "nbformat": 4,
 "nbformat_minor": 5
}
